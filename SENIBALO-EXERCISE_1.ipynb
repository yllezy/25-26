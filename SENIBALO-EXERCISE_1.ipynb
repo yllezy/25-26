{
 "cells": [
  {
   "cell_type": "code",
   "execution_count": null,
   "id": "d409e1bc",
   "metadata": {},
   "outputs": [
    {
     "name": "stdout",
     "output_type": "stream",
     "text": [
      "Output: 7.6\n",
      "Output with bias: 4.6\n",
      "Activation: True\n"
     ]
    }
   ],
   "source": [
    "#1.) 1.\t(x1, x2) = (8, 7)\n",
    "inputs = [8, 7]\n",
    "weights = [0.6, 0.4]\n",
    "bias = -3\n",
    "output = 0\n",
    "threshold = 1\n",
    "\n",
    "for i in range(len(inputs)):\n",
    "    output += inputs[i] * weights[i]\n",
    "\n",
    "print(f\"Output: {output}\")\n",
    "\n",
    "output += bias\n",
    "print(f\"Output with bias: {output}\")\n",
    "\n",
    "activate = output > threshold\n",
    "print(f\"Activation: {activate}\")\n",
    "    "
   ]
  },
  {
   "cell_type": "code",
   "execution_count": null,
   "id": "411e223e",
   "metadata": {},
   "outputs": [
    {
     "name": "stdout",
     "output_type": "stream",
     "text": [
      "Output: 3.4\n",
      "Output with bias: 0.3999999999999999\n",
      "Output with bias (rounded): 0.4\n",
      "Activation: False\n"
     ]
    }
   ],
   "source": [
    "#1.) 2. (x1, x2) = (3, 4)\n",
    "inputs = [3, 4]\n",
    "weights = [0.6, 0.4]\n",
    "bias = -3\n",
    "output = 0\n",
    "threshold = 1\n",
    "\n",
    "for i in range(len(inputs)):\n",
    "    output += inputs[i] * weights[i]\n",
    "\n",
    "print(f\"Output: {output}\")\n",
    "\n",
    "output += bias\n",
    "print(f\"Output with bias: {output}\")\n",
    "print(f\"Output with bias (rounded): {round(output, 2)}\")\n",
    "\n",
    "activate = output > threshold\n",
    "print(f\"Activation: {activate}\")\n",
    "    "
   ]
  },
  {
   "cell_type": "code",
   "execution_count": 7,
   "id": "6863dd3e",
   "metadata": {},
   "outputs": [
    {
     "name": "stdout",
     "output_type": "stream",
     "text": [
      "Output: 0\n",
      "Output with bias: -1.5\n",
      "Output with bias (rounded): -1.5\n",
      "Activation: False\n"
     ]
    }
   ],
   "source": [
    "#2.) 1.\t(x1, x2) = (0, 0)\n",
    "inputs = [0, 0]\n",
    "weights = [1, 1]\n",
    "bias = -1.5\n",
    "output = 0\n",
    "threshold = 0\n",
    "\n",
    "for i in range(len(inputs)):\n",
    "    output += inputs[i] * weights[i]\n",
    "\n",
    "print(f\"Output: {output}\")\n",
    "\n",
    "output += bias\n",
    "print(f\"Output with bias: {output}\")\n",
    "print(f\"Output with bias (rounded): {round(output, 2)}\")\n",
    "\n",
    "activate = output > threshold\n",
    "print(f\"Activation: {activate}\")\n",
    "    "
   ]
  },
  {
   "cell_type": "code",
   "execution_count": 9,
   "id": "c93c06d6",
   "metadata": {},
   "outputs": [
    {
     "name": "stdout",
     "output_type": "stream",
     "text": [
      "Output: 1\n",
      "Output with bias: -0.5\n",
      "Output with bias (rounded): -0.5\n",
      "Activation: False\n"
     ]
    }
   ],
   "source": [
    "#2.) 2.\t(x1, x2) = (0, 1)\n",
    "inputs = [0, 1]\n",
    "weights = [1, 1]\n",
    "bias = -1.5\n",
    "output = 0\n",
    "threshold = 0\n",
    "\n",
    "for i in range(len(inputs)):\n",
    "    output += inputs[i] * weights[i]\n",
    "\n",
    "print(f\"Output: {output}\")\n",
    "\n",
    "output += bias\n",
    "print(f\"Output with bias: {output}\")\n",
    "print(f\"Output with bias (rounded): {round(output, 2)}\")\n",
    "\n",
    "activate = output > threshold\n",
    "print(f\"Activation: {activate}\")\n",
    "    "
   ]
  },
  {
   "cell_type": "code",
   "execution_count": 11,
   "id": "c943feb0",
   "metadata": {},
   "outputs": [
    {
     "name": "stdout",
     "output_type": "stream",
     "text": [
      "Output: 1\n",
      "Output with bias: -0.5\n",
      "Output with bias (rounded): -0.5\n",
      "Activation: False\n"
     ]
    }
   ],
   "source": [
    "#2.) 3.\t(x1, x2) = (1, 0)\n",
    "inputs = [1, 0]\n",
    "weights = [1, 1]\n",
    "bias = -1.5\n",
    "output = 0\n",
    "threshold = 0\n",
    "\n",
    "for i in range(len(inputs)):\n",
    "    output += inputs[i] * weights[i]\n",
    "\n",
    "print(f\"Output: {output}\")\n",
    "\n",
    "output += bias\n",
    "print(f\"Output with bias: {output}\")\n",
    "print(f\"Output with bias (rounded): {round(output, 2)}\")\n",
    "\n",
    "activate = output > threshold\n",
    "print(f\"Activation: {activate}\")\n",
    "    "
   ]
  },
  {
   "cell_type": "code",
   "execution_count": 12,
   "id": "81d6c66f",
   "metadata": {},
   "outputs": [
    {
     "name": "stdout",
     "output_type": "stream",
     "text": [
      "Output: 2\n",
      "Output with bias: 0.5\n",
      "Output with bias (rounded): 0.5\n",
      "Activation: True\n"
     ]
    }
   ],
   "source": [
    "#2.) 4.\t(x1, x2) = (1, 1)\n",
    "inputs = [1, 1]\n",
    "weights = [1, 1]\n",
    "bias = -1.5\n",
    "output = 0\n",
    "threshold = 0\n",
    "\n",
    "for i in range(len(inputs)):\n",
    "    output += inputs[i] * weights[i]\n",
    "\n",
    "print(f\"Output: {output}\")\n",
    "\n",
    "output += bias\n",
    "print(f\"Output with bias: {output}\")\n",
    "print(f\"Output with bias (rounded): {round(output, 2)}\")\n",
    "\n",
    "activate = output > threshold\n",
    "print(f\"Activation: {activate}\")\n",
    "    "
   ]
  },
  {
   "cell_type": "code",
   "execution_count": null,
   "id": "ec84f5d9",
   "metadata": {},
   "outputs": [
    {
     "name": "stdout",
     "output_type": "stream",
     "text": [
      "Output: 1.5\n",
      "Output with bias: 1.7\n",
      "Output with bias (rounded): 1.7\n",
      "Activation: True\n"
     ]
    }
   ],
   "source": [
    "#3.) Perceptron A\n",
    "inputs = [0.5, -1, 2, 1, 0]\n",
    "weights = [1.0, -0.5, 0.2, 0.1, 0.0]\n",
    "bias= 0.2\n",
    "output = 0\n",
    "threshold = 0\n",
    "\n",
    "for i in range(len(inputs)):\n",
    "    output += inputs[i] * weights[i]\n",
    "\n",
    "print(f\"Output: {output}\")\n",
    "\n",
    "output += bias\n",
    "print(f\"Output with bias: {output}\")\n",
    "\n",
    "activate = output > threshold\n",
    "print(f\"Activation: {activate}\")\n",
    "    "
   ]
  },
  {
   "cell_type": "code",
   "execution_count": null,
   "id": "0f560d3e",
   "metadata": {},
   "outputs": [
    {
     "name": "stdout",
     "output_type": "stream",
     "text": [
      "Output: 0.5\n",
      "Output with bias: 0.5\n",
      "Output with bias (rounded): 0.5\n",
      "Activation: True\n"
     ]
    }
   ],
   "source": [
    "#3.) Perceptron B\n",
    "inputs = [0.5, -1, 2, 1, 0]\n",
    "weights = [0.2, 0.2, 0.5, -0.4, 0.3]\n",
    "bias = 0.0\n",
    "output = 0\n",
    "threshold = 0\n",
    "\n",
    "for i in range(len(inputs)):\n",
    "    output += inputs[i] * weights[i]\n",
    "\n",
    "print(f\"Output: {output}\")\n",
    "\n",
    "output += bias\n",
    "print(f\"Output with bias: {output}\")\n",
    "\n",
    "activate = output > threshold\n",
    "print(f\"Activation: {activate}\")\n",
    "    "
   ]
  },
  {
   "cell_type": "code",
   "execution_count": null,
   "id": "fba7e3df",
   "metadata": {},
   "outputs": [
    {
     "name": "stdout",
     "output_type": "stream",
     "text": [
      "Output: 0.75\n",
      "Output with bias: 0.15000000000000002\n",
      "Output with bias (rounded): 0.15\n",
      "Activation: True\n"
     ]
    }
   ],
   "source": [
    "#3.) Perceptron C\n",
    "inputs = [0.5, -1, 2, 1, 0]\n",
    "weights = [-0.3, -0.1, 0.4, 0.0, 0.2]\n",
    "bias = -0.6\n",
    "output = 0\n",
    "threshold = 0\n",
    "\n",
    "for i in range(len(inputs)):\n",
    "    output += inputs[i] * weights[i]\n",
    "\n",
    "print(f\"Output: {output}\")\n",
    "\n",
    "output += bias\n",
    "print(f\"Output with bias: {output}\")\n",
    "print(f\"Output with bias (rounded): {round(output, 2)}\")\n",
    "\n",
    "activate = output > threshold\n",
    "print(f\"Activation: {activate}\")\n",
    "    "
   ]
  },
  {
   "cell_type": "code",
   "execution_count": null,
   "id": "8864399a",
   "metadata": {},
   "outputs": [],
   "source": [
    "# Findings: Perceptron A is the WINNER since it has the highest weighted sum among the other perceptrons present. "
   ]
  }
 ],
 "metadata": {
  "kernelspec": {
   "display_name": "Python 3",
   "language": "python",
   "name": "python3"
  },
  "language_info": {
   "codemirror_mode": {
    "name": "ipython",
    "version": 3
   },
   "file_extension": ".py",
   "mimetype": "text/x-python",
   "name": "python",
   "nbconvert_exporter": "python",
   "pygments_lexer": "ipython3",
   "version": "3.13.1"
  }
 },
 "nbformat": 4,
 "nbformat_minor": 5
}
